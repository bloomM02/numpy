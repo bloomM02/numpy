{
  "nbformat": 4,
  "nbformat_minor": 0,
  "metadata": {
    "colab": {
      "name": "Numpy.ipynb",
      "provenance": []
    },
    "kernelspec": {
      "name": "python3",
      "display_name": "Python 3"
    },
    "language_info": {
      "name": "python"
    }
  },
  "cells": [
    {
      "cell_type": "code",
      "metadata": {
        "colab": {
          "base_uri": "https://localhost:8080/"
        },
        "id": "erCbSgf2STJW",
        "outputId": "8d564440-1367-44cf-ede1-70080ed3ba4c"
      },
      "source": [
        "import numpy as np\n",
        "new_array=np.array([1,2,3,4,8,7,9])\n",
        "new_list = new_array.tolist()\n",
        "print(new_list)\n"
      ],
      "execution_count": 4,
      "outputs": [
        {
          "output_type": "stream",
          "text": [
            "[1, 2, 3, 4, 8, 7, 9]\n"
          ],
          "name": "stdout"
        }
      ]
    },
    {
      "cell_type": "code",
      "metadata": {
        "colab": {
          "base_uri": "https://localhost:8080/"
        },
        "id": "mrCoiflpYjBf",
        "outputId": "785d35fa-e21e-4f39-df59-97b65cbb71b5"
      },
      "source": [
        "import numpy as np\n",
        "a=np.array([[1, 2, 3], [4, 5, 6], [7, 8, 9]])\n",
        "print(np.trace(a))\n"
      ],
      "execution_count": 12,
      "outputs": [
        {
          "output_type": "stream",
          "text": [
            "15.0\n"
          ],
          "name": "stdout"
        }
      ]
    },
    {
      "cell_type": "code",
      "metadata": {
        "colab": {
          "base_uri": "https://localhost:8080/"
        },
        "id": "yuCiBMiob9-1",
        "outputId": "40c91832-cfa3-4979-a328-2e5ad6897ac1"
      },
      "source": [
        "import numpy as np\n",
        "new_array= np.array([[0, 10, 20], [20, 30, 40]])\n",
        "x=float(input(\"entrez u nnombre\"))\n",
        "print(\"Values bigger than x =\", new_array[new_array>x])"
      ],
      "execution_count": 16,
      "outputs": [
        {
          "output_type": "stream",
          "text": [
            "entrez u nnombre30\n",
            "Values bigger than x = [40]\n"
          ],
          "name": "stdout"
        }
      ]
    },
    {
      "cell_type": "code",
      "metadata": {
        "colab": {
          "base_uri": "https://localhost:8080/"
        },
        "id": "BPDxVee_e2ss",
        "outputId": "03edbcc9-f695-4ce9-8b60-194634bd0c0f"
      },
      "source": [
        "import numpy as np\n",
        "a=np.array([[0, 10, 20]])\n",
        "b=np.array([[0, 3, 7]])  \n",
        "c=a+b \n",
        "print(c)      \n",
        "\n"
      ],
      "execution_count": 25,
      "outputs": [
        {
          "output_type": "stream",
          "text": [
            "[[ 0 13 27]]\n"
          ],
          "name": "stdout"
        }
      ]
    },
    {
      "cell_type": "code",
      "metadata": {
        "colab": {
          "base_uri": "https://localhost:8080/"
        },
        "id": "sUih7wmkfbLa",
        "outputId": "84c6918d-92ea-4977-952d-3bcc4f3c5267"
      },
      "source": [
        "import numpy as np\n",
        "a=np.array([[1, 2, 3], [4, 5, 6], [7, 8, 9]])\n",
        "print(np.mean(a))"
      ],
      "execution_count": 26,
      "outputs": [
        {
          "output_type": "stream",
          "text": [
            "5.0\n"
          ],
          "name": "stdout"
        }
      ]
    },
    {
      "cell_type": "code",
      "metadata": {
        "colab": {
          "base_uri": "https://localhost:8080/"
        },
        "id": "GviXOcqxgSZ7",
        "outputId": "a538cd9c-aaf0-4436-8f0b-6939dd2f777c"
      },
      "source": [
        "import numpy as np\n",
        "print(\"Original matrix:\\n\")\n",
        "X = np.random.rand(5, 10)\n",
        "print(X)\n",
        "print(\"\\nSubtract the mean of each row of the said matrix:\\n\")\n",
        "Y = X - X.mean(axis=1, keepdims=True)\n",
        "print(Y)"
      ],
      "execution_count": 27,
      "outputs": [
        {
          "output_type": "stream",
          "text": [
            "Original matrix:\n",
            "\n",
            "[[0.8182238  0.72502562 0.08548207 0.77710238 0.02274162 0.06056748\n",
            "  0.85282458 0.73603517 0.38842303 0.13348904]\n",
            " [0.24343762 0.34468517 0.77761072 0.7729759  0.9081238  0.27531252\n",
            "  0.45688924 0.69702295 0.08354583 0.7957356 ]\n",
            " [0.60336987 0.0134954  0.1456473  0.7641406  0.39504744 0.16658663\n",
            "  0.27802845 0.49988882 0.53711817 0.04055993]\n",
            " [0.53384902 0.94610015 0.70206841 0.58263135 0.75062884 0.10187403\n",
            "  0.97263867 0.57206208 0.00463384 0.94297242]\n",
            " [0.59835952 0.58868164 0.90111006 0.92031524 0.23766059 0.17858962\n",
            "  0.36259165 0.82559574 0.23238292 0.97108183]]\n",
            "\n",
            "Subtract the mean of each row of the said matrix:\n",
            "\n",
            "[[ 0.35823232  0.26503414 -0.37450941  0.3171109  -0.43724986 -0.39942399\n",
            "   0.3928331   0.27604369 -0.07156845 -0.32650243]\n",
            " [-0.29209632 -0.19084876  0.24207679  0.23744196  0.37258987 -0.26022142\n",
            "  -0.0786447   0.16148901 -0.4519881   0.26020166]\n",
            " [ 0.25898161 -0.33089286 -0.19874096  0.41975234  0.05065918 -0.17780163\n",
            "  -0.06635981  0.15550056  0.19272991 -0.30382833]\n",
            " [-0.07709686  0.33515427  0.09112253 -0.02831453  0.13968296 -0.50907185\n",
            "   0.36169279 -0.0388838  -0.60631204  0.33202654]\n",
            " [ 0.01672264  0.00704476  0.31947318  0.33867836 -0.34397629 -0.40304726\n",
            "  -0.21904523  0.24395886 -0.34925396  0.38944495]]\n"
          ],
          "name": "stdout"
        }
      ]
    }
  ]
}